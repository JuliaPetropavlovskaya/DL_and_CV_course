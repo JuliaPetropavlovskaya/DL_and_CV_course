{
  "nbformat": 4,
  "nbformat_minor": 0,
  "metadata": {
    "colab": {
      "name": "perceptron.ipynb",
      "version": "0.3.2",
      "provenance": [],
      "collapsed_sections": []
    },
    "kernelspec": {
      "name": "python3",
      "display_name": "Python 3"
    }
  },
  "cells": [
    {
      "cell_type": "code",
      "metadata": {
        "id": "RZW3XIxgfoMI",
        "colab_type": "code",
        "colab": {
          "base_uri": "https://localhost:8080/",
          "height": 71
        },
        "outputId": "bc507851-634b-4647-e02c-f5f4e3daf09e"
      },
      "source": [
        "!pip3 install torch"
      ],
      "execution_count": 1,
      "outputs": [
        {
          "output_type": "stream",
          "text": [
            "Requirement already satisfied: torch in /usr/local/lib/python3.6/dist-packages (1.1.0)\n",
            "Requirement already satisfied: numpy in /usr/local/lib/python3.6/dist-packages (from torch) (1.16.4)\n"
          ],
          "name": "stdout"
        }
      ]
    },
    {
      "cell_type": "code",
      "metadata": {
        "id": "8aZ1mBQMi4NU",
        "colab_type": "code",
        "colab": {}
      },
      "source": [
        "import torch\n",
        "import numpy as np\n",
        "import matplotlib.pyplot as plt\n",
        "import torch.nn as nn\n",
        "import seaborn as sns\n",
        "import matplotlib.style as style\n",
        "from sklearn import datasets\n",
        "style.use('seaborn-whitegrid')"
      ],
      "execution_count": 0,
      "outputs": []
    },
    {
      "cell_type": "code",
      "metadata": {
        "id": "RzHuPxCtjBaT",
        "colab_type": "code",
        "colab": {}
      },
      "source": [
        "# create dataset\n",
        "n_pts=100\n",
        "\n",
        "# we create centers of the futer clusters\n",
        "# to make separation more difficult\n",
        "centers = [[-0.5,0.5],[0.5,-0.5]]\n",
        "X, y = datasets.make_blobs(n_samples=n_pts, \n",
        "                          random_state = 123,\n",
        "                          centers = centers,\n",
        "                          cluster_std = 0.4)\n",
        "#print(X)\n",
        "#print(y)"
      ],
      "execution_count": 0,
      "outputs": []
    },
    {
      "cell_type": "code",
      "metadata": {
        "id": "w7o2eizuk-J1",
        "colab_type": "code",
        "colab": {}
      },
      "source": [
        "def ScatterPlot():\n",
        "  style.use('seaborn-dark-palette')\n",
        "  sns.scatterplot(x = X[y==0,0], y = X[y==0,1])\n",
        "  sns.scatterplot(x = X[y==1,0], y = X[y==1,1])"
      ],
      "execution_count": 0,
      "outputs": []
    },
    {
      "cell_type": "code",
      "metadata": {
        "id": "AIa9NkX0SzsV",
        "colab_type": "code",
        "colab": {
          "base_uri": "https://localhost:8080/",
          "height": 262
        },
        "outputId": "fa18f54c-ab2e-4841-faa8-c2a64572b092"
      },
      "source": [
        "ScatterPlot()"
      ],
      "execution_count": 5,
      "outputs": [
        {
          "output_type": "display_data",
          "data": {
            "image/png": "[encoded data removed]",
            "text/plain": [
              "<Figure size 432x288 with 1 Axes>"
            ]
          },
          "metadata": {
            "tags": []
          }
        }
      ]
    },
    {
      "cell_type": "code",
      "metadata": {
        "id": "3W2SAlXtlEqI",
        "colab_type": "code",
        "colab": {}
      },
      "source": [
        "x_data = torch.Tensor(X)\n",
        "y_data = torch.Tensor(y)"
      ],
      "execution_count": 0,
      "outputs": []
    },
    {
      "cell_type": "code",
      "metadata": {
        "id": "kVLUjaSYqyyu",
        "colab_type": "code",
        "colab": {}
      },
      "source": [
        "#@title Perceptron\n"
      ],
      "execution_count": 0,
      "outputs": []
    },
    {
      "cell_type": "code",
      "metadata": {
        "id": "yN78diAnr_6k",
        "colab_type": "code",
        "colab": {}
      },
      "source": [
        "class Model(nn.Module):\n",
        "  def __init__(self, input_size, output_size):\n",
        "    super().__init__()\n",
        "    self.linear = nn.Linear(input_size, output_size)\n",
        "  def forward(self, x):\n",
        "    pred = torch.sigmoid(self.linear(x))\n",
        "    return pred\n",
        "  \n",
        "  def predict(self,x):\n",
        "    pred = self.forward(x)\n",
        "    if pred >= 0.5:\n",
        "      return 1\n",
        "    else: \n",
        "      return int(0)\n",
        "  "
      ],
      "execution_count": 0,
      "outputs": []
    },
    {
      "cell_type": "code",
      "metadata": {
        "id": "03GN8aqp5Ble",
        "colab_type": "code",
        "colab": {
          "base_uri": "https://localhost:8080/",
          "height": 88
        },
        "outputId": "4803e7ad-d3d8-4d9e-8156-6d72b78b29d3"
      },
      "source": [
        "torch.manual_seed(2)\n",
        "model = Model(2,1)\n",
        "print(list(model.parameters()))"
      ],
      "execution_count": 8,
      "outputs": [
        {
          "output_type": "stream",
          "text": [
            "[Parameter containing:\n",
            "tensor([[ 0.1622, -0.1683]], requires_grad=True), Parameter containing:\n",
            "tensor([0.1939], requires_grad=True)]\n"
          ],
          "name": "stdout"
        }
      ]
    },
    {
      "cell_type": "code",
      "metadata": {
        "id": "LfPSOXUb5Qlt",
        "colab_type": "code",
        "colab": {}
      },
      "source": [
        "# This parameters are not optimal, \n",
        "#so we need to train our perceptron"
      ],
      "execution_count": 0,
      "outputs": []
    },
    {
      "cell_type": "code",
      "metadata": {
        "id": "cuZ7oXm_5qof",
        "colab_type": "code",
        "colab": {}
      },
      "source": [
        "[w,b] = model.parameters()\n",
        "w1,w2 = w.view(2)\n",
        "\n",
        "def GetParams():\n",
        "  return (w1.item(),w2.item(),b[0].item())"
      ],
      "execution_count": 0,
      "outputs": []
    },
    {
      "cell_type": "code",
      "metadata": {
        "id": "dcMMjlEI51rv",
        "colab_type": "code",
        "colab": {}
      },
      "source": [
        "def PlotFit(title):\n",
        "  style.use('seaborn-pastel')\n",
        "  plt.title = title\n",
        "  #0 = w1*x1 + w2*x2 + b\n",
        "  w1,w2,b1 = GetParams()\n",
        "  x1 = np.array([-2.0,2.0])\n",
        "  x2 = (w1*x1 + b1)/ (-w2)\n",
        "  plt.plot(x1,x2, 'blueviolet')\n",
        "  ScatterPlot()\n",
        "  "
      ],
      "execution_count": 0,
      "outputs": []
    },
    {
      "cell_type": "code",
      "metadata": {
        "id": "Gms2_qU0RTYo",
        "colab_type": "code",
        "colab": {
          "base_uri": "https://localhost:8080/",
          "height": 262
        },
        "outputId": "a1a94875-ca27-41cb-b4b9-894a589d76d1"
      },
      "source": [
        "PlotFit('Initial_Model')"
      ],
      "execution_count": 12,
      "outputs": [
        {
          "output_type": "display_data",
          "data": {
            "image/png": "[encoded data removed]",
            "text/plain": [
              "<Figure size 432x288 with 1 Axes>"
            ]
          },
          "metadata": {
            "tags": []
          }
        }
      ]
    },
    {
      "cell_type": "code",
      "metadata": {
        "id": "FHD6qtGYS-Be",
        "colab_type": "code",
        "colab": {}
      },
      "source": [
        "# Our criterion\n",
        "criterion = nn.BCELoss()\n",
        "# Update of the parameters\n",
        "optimizer = torch.optim.SGD(model.parameters(), lr = 0.01)"
      ],
      "execution_count": 0,
      "outputs": []
    },
    {
      "cell_type": "code",
      "metadata": {
        "id": "9sJgrEdxLf2U",
        "colab_type": "code",
        "colab": {
          "base_uri": "https://localhost:8080/",
          "height": 1000
        },
        "outputId": "6332df1b-c19b-45f7-f323-1eb3c6cb883a"
      },
      "source": [
        "epochs = 500\n",
        "losses = []\n",
        "for i in range(epochs):\n",
        "  \n",
        "  # make predictions\n",
        "  y_pred = model.forward(x_data)\n",
        "  \n",
        "  # Loss\n",
        "  loss = criterion(y_pred, y_data)\n",
        "  print(\"epoch:\", i, \"loss\", loss.item())\n",
        "  \n",
        "  \n",
        "  losses.append(loss.item())\n",
        "\n",
        "  #set gradients to zero\n",
        "  optimizer.zero_grad()\n",
        "\n",
        "  # back propagate our loss\n",
        "  loss.backward()\n",
        "\n",
        "  # calculate SGD. Step method is used to update parameters\n",
        "  optimizer.step()\n",
        "  \n",
        "  "
      ],
      "execution_count": 14,
      "outputs": [
        {
          "output_type": "stream",
          "text": [
            "/usr/local/lib/python3.6/dist-packages/torch/nn/modules/loss.py:512: UserWarning: Using a target size (torch.Size([100])) that is different to the input size (torch.Size([100, 1])) is deprecated. Please ensure they have the same size.\n",
            "  return F.binary_cross_entropy(input, target, weight=self.weight, reduction=self.reduction)\n"
          ],
          "name": "stderr"
        },
        {
          "output_type": "stream",
          "text": [
            "epoch: 0 loss 0.6185115575790405\n",
            "epoch: 1 loss 0.6174639463424683\n",
            "epoch: 2 loss 0.6164201498031616\n",
            "epoch: 3 loss 0.6153794527053833\n",
            "epoch: 4 loss 0.614342451095581\n",
            "epoch: 5 loss 0.6133086681365967\n",
            "epoch: 6 loss 0.6122783422470093\n",
            "epoch: 7 loss 0.6112515330314636\n",
            "epoch: 8 loss 0.6102280616760254\n",
            "epoch: 9 loss 0.6092080473899841\n",
            "epoch: 10 loss 0.6081910729408264\n",
            "epoch: 11 loss 0.6071775555610657\n",
            "epoch: 12 loss 0.606167733669281\n",
            "epoch: 13 loss 0.6051608920097351\n",
            "epoch: 14 loss 0.604157567024231\n",
            "epoch: 15 loss 0.6031574606895447\n",
            "epoch: 16 loss 0.602160632610321\n",
            "epoch: 17 loss 0.6011670827865601\n",
            "epoch: 18 loss 0.6001767516136169\n",
            "epoch: 19 loss 0.599189817905426\n",
            "epoch: 20 loss 0.5982059240341187\n",
            "epoch: 21 loss 0.5972254276275635\n",
            "epoch: 22 loss 0.5962479114532471\n",
            "epoch: 23 loss 0.5952739119529724\n",
            "epoch: 24 loss 0.5943028926849365\n",
            "epoch: 25 loss 0.5933352112770081\n",
            "epoch: 26 loss 0.5923705101013184\n",
            "epoch: 27 loss 0.5914090275764465\n",
            "epoch: 28 loss 0.5904508829116821\n",
            "epoch: 29 loss 0.5894957184791565\n",
            "epoch: 30 loss 0.588543713092804\n",
            "epoch: 31 loss 0.5875945687294006\n",
            "epoch: 32 loss 0.5866488218307495\n",
            "epoch: 33 loss 0.5857059955596924\n",
            "epoch: 34 loss 0.5847664475440979\n",
            "epoch: 35 loss 0.5838297009468079\n",
            "epoch: 36 loss 0.5828962922096252\n",
            "epoch: 37 loss 0.5819657444953918\n",
            "epoch: 38 loss 0.581038236618042\n",
            "epoch: 39 loss 0.5801137685775757\n",
            "epoch: 40 loss 0.5791923403739929\n",
            "epoch: 41 loss 0.5782737135887146\n",
            "epoch: 42 loss 0.577358067035675\n",
            "epoch: 43 loss 0.5764455199241638\n",
            "epoch: 44 loss 0.5755358934402466\n",
            "epoch: 45 loss 0.5746294260025024\n",
            "epoch: 46 loss 0.5737255811691284\n",
            "epoch: 47 loss 0.5728249549865723\n",
            "epoch: 48 loss 0.5719269514083862\n",
            "epoch: 49 loss 0.5710318088531494\n",
            "epoch: 50 loss 0.5701398849487305\n",
            "epoch: 51 loss 0.5692505240440369\n",
            "epoch: 52 loss 0.5683643221855164\n",
            "epoch: 53 loss 0.5674808621406555\n",
            "epoch: 54 loss 0.5666001439094543\n",
            "epoch: 55 loss 0.5657223463058472\n",
            "epoch: 56 loss 0.5648473501205444\n",
            "epoch: 57 loss 0.5639750957489014\n",
            "epoch: 58 loss 0.5631057620048523\n",
            "epoch: 59 loss 0.5622392892837524\n",
            "epoch: 60 loss 0.561375617980957\n",
            "epoch: 61 loss 0.5605144500732422\n",
            "epoch: 62 loss 0.5596560835838318\n",
            "epoch: 63 loss 0.5588006973266602\n",
            "epoch: 64 loss 0.5579478144645691\n",
            "epoch: 65 loss 0.5570977330207825\n",
            "epoch: 66 loss 0.5562503933906555\n",
            "epoch: 67 loss 0.5554057955741882\n",
            "epoch: 68 loss 0.5545637011528015\n",
            "epoch: 69 loss 0.5537243485450745\n",
            "epoch: 70 loss 0.5528878569602966\n",
            "epoch: 71 loss 0.5520538687705994\n",
            "epoch: 72 loss 0.5512227416038513\n",
            "epoch: 73 loss 0.5503940582275391\n",
            "epoch: 74 loss 0.5495679378509521\n",
            "epoch: 75 loss 0.5487444996833801\n",
            "epoch: 76 loss 0.5479238629341125\n",
            "epoch: 77 loss 0.5471054911613464\n",
            "epoch: 78 loss 0.5462900400161743\n",
            "epoch: 79 loss 0.5454771518707275\n",
            "epoch: 80 loss 0.5446667671203613\n",
            "epoch: 81 loss 0.5438589453697205\n",
            "epoch: 82 loss 0.5430535674095154\n",
            "epoch: 83 loss 0.5422506928443909\n",
            "epoch: 84 loss 0.5414506196975708\n",
            "epoch: 85 loss 0.5406527519226074\n",
            "epoch: 86 loss 0.5398576855659485\n",
            "epoch: 87 loss 0.5390648245811462\n",
            "epoch: 88 loss 0.5382746458053589\n",
            "epoch: 89 loss 0.5374867916107178\n",
            "epoch: 90 loss 0.5367016792297363\n",
            "epoch: 91 loss 0.535918653011322\n",
            "epoch: 92 loss 0.5351383686065674\n",
            "epoch: 93 loss 0.5343605279922485\n",
            "epoch: 94 loss 0.5335849523544312\n",
            "epoch: 95 loss 0.5328119993209839\n",
            "epoch: 96 loss 0.5320413112640381\n",
            "epoch: 97 loss 0.5312730669975281\n",
            "epoch: 98 loss 0.5305072665214539\n",
            "epoch: 99 loss 0.5297438502311707\n",
            "epoch: 100 loss 0.5289824604988098\n",
            "epoch: 101 loss 0.5282240509986877\n",
            "epoch: 102 loss 0.5274677872657776\n",
            "epoch: 103 loss 0.5267136693000793\n",
            "epoch: 104 loss 0.5259618759155273\n",
            "epoch: 105 loss 0.5252127647399902\n",
            "epoch: 106 loss 0.524465799331665\n",
            "epoch: 107 loss 0.5237209796905518\n",
            "epoch: 108 loss 0.5229786038398743\n",
            "epoch: 109 loss 0.5222384929656982\n",
            "epoch: 110 loss 0.5215004682540894\n",
            "epoch: 111 loss 0.5207651257514954\n",
            "epoch: 112 loss 0.5200319290161133\n",
            "epoch: 113 loss 0.5193008184432983\n",
            "epoch: 114 loss 0.5185720324516296\n",
            "epoch: 115 loss 0.5178455114364624\n",
            "epoch: 116 loss 0.5171211361885071\n",
            "epoch: 117 loss 0.5163991451263428\n",
            "epoch: 118 loss 0.5156794190406799\n",
            "epoch: 119 loss 0.5149617791175842\n",
            "epoch: 120 loss 0.5142462253570557\n",
            "epoch: 121 loss 0.5135331153869629\n",
            "epoch: 122 loss 0.5128219723701477\n",
            "epoch: 123 loss 0.5121132135391235\n",
            "epoch: 124 loss 0.5114063024520874\n",
            "epoch: 125 loss 0.5107016563415527\n",
            "epoch: 126 loss 0.5099992752075195\n",
            "epoch: 127 loss 0.5092989206314087\n",
            "epoch: 128 loss 0.5086007714271545\n",
            "epoch: 129 loss 0.5079045295715332\n",
            "epoch: 130 loss 0.5072106122970581\n",
            "epoch: 131 loss 0.5065188407897949\n",
            "epoch: 132 loss 0.5058292150497437\n",
            "epoch: 133 loss 0.5051414966583252\n",
            "epoch: 134 loss 0.5044559240341187\n",
            "epoch: 135 loss 0.5037723779678345\n",
            "epoch: 136 loss 0.5030909180641174\n",
            "epoch: 137 loss 0.5024116039276123\n",
            "epoch: 138 loss 0.5017342567443848\n",
            "epoch: 139 loss 0.50105881690979\n",
            "epoch: 140 loss 0.5003856420516968\n",
            "epoch: 141 loss 0.4997144341468811\n",
            "epoch: 142 loss 0.4990452826023102\n",
            "epoch: 143 loss 0.49837803840637207\n",
            "epoch: 144 loss 0.4977127015590668\n",
            "epoch: 145 loss 0.497049480676651\n",
            "epoch: 146 loss 0.4963882863521576\n",
            "epoch: 147 loss 0.49572890996932983\n",
            "epoch: 148 loss 0.49507153034210205\n",
            "epoch: 149 loss 0.49441614747047424\n",
            "epoch: 150 loss 0.4937628209590912\n",
            "epoch: 151 loss 0.49311134219169617\n",
            "epoch: 152 loss 0.49246203899383545\n",
            "epoch: 153 loss 0.49181443452835083\n",
            "epoch: 154 loss 0.4911685883998871\n",
            "epoch: 155 loss 0.49052485823631287\n",
            "epoch: 156 loss 0.48988306522369385\n",
            "epoch: 157 loss 0.48924314975738525\n",
            "epoch: 158 loss 0.4886051118373871\n",
            "epoch: 159 loss 0.48796898126602173\n",
            "epoch: 160 loss 0.487334668636322\n",
            "epoch: 161 loss 0.4867023527622223\n",
            "epoch: 162 loss 0.4860716760158539\n",
            "epoch: 163 loss 0.4854430854320526\n",
            "epoch: 164 loss 0.4848161041736603\n",
            "epoch: 165 loss 0.4841911196708679\n",
            "epoch: 166 loss 0.4835679233074188\n",
            "epoch: 167 loss 0.4829466640949249\n",
            "epoch: 168 loss 0.4823271632194519\n",
            "epoch: 169 loss 0.4817095100879669\n",
            "epoch: 170 loss 0.48109352588653564\n",
            "epoch: 171 loss 0.48047950863838196\n",
            "epoch: 172 loss 0.47986698150634766\n",
            "epoch: 173 loss 0.47925662994384766\n",
            "epoch: 174 loss 0.47864776849746704\n",
            "epoch: 175 loss 0.478040874004364\n",
            "epoch: 176 loss 0.4774356782436371\n",
            "epoch: 177 loss 0.47683224081993103\n",
            "epoch: 178 loss 0.47623059153556824\n",
            "epoch: 179 loss 0.4756303131580353\n",
            "epoch: 180 loss 0.4750322997570038\n",
            "epoch: 181 loss 0.47443583607673645\n",
            "epoch: 182 loss 0.4738411605358124\n",
            "epoch: 183 loss 0.47324806451797485\n",
            "epoch: 184 loss 0.4726565480232239\n",
            "epoch: 185 loss 0.47206705808639526\n",
            "epoch: 186 loss 0.4714791476726532\n",
            "epoch: 187 loss 0.47089287638664246\n",
            "epoch: 188 loss 0.47030842304229736\n",
            "epoch: 189 loss 0.4697253704071045\n",
            "epoch: 190 loss 0.4691442549228668\n",
            "epoch: 191 loss 0.4685647487640381\n",
            "epoch: 192 loss 0.46798667311668396\n",
            "epoch: 193 loss 0.46741050481796265\n",
            "epoch: 194 loss 0.4668358266353607\n",
            "epoch: 195 loss 0.46626290678977966\n",
            "epoch: 196 loss 0.4656916558742523\n",
            "epoch: 197 loss 0.4651219844818115\n",
            "epoch: 198 loss 0.4645538330078125\n",
            "epoch: 199 loss 0.46398746967315674\n",
            "epoch: 200 loss 0.46342262625694275\n",
            "epoch: 201 loss 0.46285927295684814\n",
            "epoch: 202 loss 0.4622977077960968\n",
            "epoch: 203 loss 0.46173766255378723\n",
            "epoch: 204 loss 0.4611791968345642\n",
            "epoch: 205 loss 0.46062225103378296\n",
            "epoch: 206 loss 0.46006691455841064\n",
            "epoch: 207 loss 0.45951324701309204\n",
            "epoch: 208 loss 0.4589608311653137\n",
            "epoch: 209 loss 0.45841044187545776\n",
            "epoch: 210 loss 0.45786118507385254\n",
            "epoch: 211 loss 0.4573136270046234\n",
            "epoch: 212 loss 0.45676758885383606\n",
            "epoch: 213 loss 0.45622318983078003\n",
            "epoch: 214 loss 0.45568016171455383\n",
            "epoch: 215 loss 0.4551387131214142\n",
            "epoch: 216 loss 0.45459869503974915\n",
            "epoch: 217 loss 0.45406028628349304\n",
            "epoch: 218 loss 0.4535233974456787\n",
            "epoch: 219 loss 0.4529879093170166\n",
            "epoch: 220 loss 0.4524538516998291\n",
            "epoch: 221 loss 0.4519214332103729\n",
            "epoch: 222 loss 0.4513905346393585\n",
            "epoch: 223 loss 0.4508609473705292\n",
            "epoch: 224 loss 0.4503328800201416\n",
            "epoch: 225 loss 0.4498063027858734\n",
            "epoch: 226 loss 0.44928112626075745\n",
            "epoch: 227 loss 0.44875743985176086\n",
            "epoch: 228 loss 0.44823524355888367\n",
            "epoch: 229 loss 0.4477144181728363\n",
            "epoch: 230 loss 0.4471950829029083\n",
            "epoch: 231 loss 0.44667720794677734\n",
            "epoch: 232 loss 0.4461606740951538\n",
            "epoch: 233 loss 0.4456455707550049\n",
            "epoch: 234 loss 0.4451318681240082\n",
            "epoch: 235 loss 0.4446195662021637\n",
            "epoch: 236 loss 0.4441088140010834\n",
            "epoch: 237 loss 0.4435991942882538\n",
            "epoch: 238 loss 0.4430912137031555\n",
            "epoch: 239 loss 0.44258439540863037\n",
            "epoch: 240 loss 0.44207894802093506\n",
            "epoch: 241 loss 0.44157522916793823\n",
            "epoch: 242 loss 0.4410724639892578\n",
            "epoch: 243 loss 0.4405713379383087\n",
            "epoch: 244 loss 0.4400714933872223\n",
            "epoch: 245 loss 0.43957290053367615\n",
            "epoch: 246 loss 0.439075767993927\n",
            "epoch: 247 loss 0.43858012557029724\n",
            "epoch: 248 loss 0.438085675239563\n",
            "epoch: 249 loss 0.437592476606369\n",
            "epoch: 250 loss 0.43710052967071533\n",
            "epoch: 251 loss 0.4366101324558258\n",
            "epoch: 252 loss 0.4361210763454437\n",
            "epoch: 253 loss 0.4356331527233124\n",
            "epoch: 254 loss 0.4351467490196228\n",
            "epoch: 255 loss 0.4346614480018616\n",
            "epoch: 256 loss 0.4341774880886078\n",
            "epoch: 257 loss 0.43369483947753906\n",
            "epoch: 258 loss 0.43321359157562256\n",
            "epoch: 259 loss 0.43273353576660156\n",
            "epoch: 260 loss 0.43225476145744324\n",
            "epoch: 261 loss 0.43177711963653564\n",
            "epoch: 262 loss 0.43130093812942505\n",
            "epoch: 263 loss 0.4308260381221771\n",
            "epoch: 264 loss 0.4303523004055023\n",
            "epoch: 265 loss 0.4298797845840454\n",
            "epoch: 266 loss 0.4294084906578064\n",
            "epoch: 267 loss 0.42893868684768677\n",
            "epoch: 268 loss 0.42847001552581787\n",
            "epoch: 269 loss 0.4280024766921997\n",
            "epoch: 270 loss 0.4275362491607666\n",
            "epoch: 271 loss 0.42707115411758423\n",
            "epoch: 272 loss 0.42660748958587646\n",
            "epoch: 273 loss 0.4261449873447418\n",
            "epoch: 274 loss 0.42568355798721313\n",
            "epoch: 275 loss 0.42522352933883667\n",
            "epoch: 276 loss 0.42476463317871094\n",
            "epoch: 277 loss 0.42430704832077026\n",
            "epoch: 278 loss 0.42385023832321167\n",
            "epoch: 279 loss 0.4233950078487396\n",
            "epoch: 280 loss 0.42294082045555115\n",
            "epoch: 281 loss 0.42248794436454773\n",
            "epoch: 282 loss 0.42203617095947266\n",
            "epoch: 283 loss 0.4215855896472931\n",
            "epoch: 284 loss 0.42113614082336426\n",
            "epoch: 285 loss 0.42068779468536377\n",
            "epoch: 286 loss 0.4202407896518707\n",
            "epoch: 287 loss 0.4197949469089508\n",
            "epoch: 288 loss 0.4193502366542816\n",
            "epoch: 289 loss 0.41890639066696167\n",
            "epoch: 290 loss 0.41846397519111633\n",
            "epoch: 291 loss 0.41802260279655457\n",
            "epoch: 292 loss 0.417582631111145\n",
            "epoch: 293 loss 0.4171435236930847\n",
            "epoch: 294 loss 0.4167054295539856\n",
            "epoch: 295 loss 0.4162687063217163\n",
            "epoch: 296 loss 0.41583287715911865\n",
            "epoch: 297 loss 0.4153984785079956\n",
            "epoch: 298 loss 0.4149649739265442\n",
            "epoch: 299 loss 0.4145326316356659\n",
            "epoch: 300 loss 0.41410133242607117\n",
            "epoch: 301 loss 0.4136713147163391\n",
            "epoch: 302 loss 0.4132422208786011\n",
            "epoch: 303 loss 0.4128142297267914\n",
            "epoch: 304 loss 0.4123874604701996\n",
            "epoch: 305 loss 0.4119616448879242\n",
            "epoch: 306 loss 0.4115370213985443\n",
            "epoch: 307 loss 0.41111335158348083\n",
            "epoch: 308 loss 0.4106908440589905\n",
            "epoch: 309 loss 0.4102693796157837\n",
            "epoch: 310 loss 0.40984901785850525\n",
            "epoch: 311 loss 0.4094295799732208\n",
            "epoch: 312 loss 0.4090114235877991\n",
            "epoch: 313 loss 0.4085941016674042\n",
            "epoch: 314 loss 0.40817803144454956\n",
            "epoch: 315 loss 0.4077627956867218\n",
            "epoch: 316 loss 0.40734875202178955\n",
            "epoch: 317 loss 0.40693560242652893\n",
            "epoch: 318 loss 0.40652385354042053\n",
            "epoch: 319 loss 0.40611281991004944\n",
            "epoch: 320 loss 0.40570276975631714\n",
            "epoch: 321 loss 0.40529385209083557\n",
            "epoch: 322 loss 0.40488606691360474\n",
            "epoch: 323 loss 0.40447911620140076\n",
            "epoch: 324 loss 0.4040732681751251\n",
            "epoch: 325 loss 0.4036683738231659\n",
            "epoch: 326 loss 0.40326446294784546\n",
            "epoch: 327 loss 0.4028615951538086\n",
            "epoch: 328 loss 0.40245985984802246\n",
            "epoch: 329 loss 0.40205898880958557\n",
            "epoch: 330 loss 0.40165916085243225\n",
            "epoch: 331 loss 0.40126025676727295\n",
            "epoch: 332 loss 0.400862455368042\n",
            "epoch: 333 loss 0.4004655182361603\n",
            "epoch: 334 loss 0.4000696539878845\n",
            "epoch: 335 loss 0.399674654006958\n",
            "epoch: 336 loss 0.3992806673049927\n",
            "epoch: 337 loss 0.39888766407966614\n",
            "epoch: 338 loss 0.39849549531936646\n",
            "epoch: 339 loss 0.39810463786125183\n",
            "epoch: 340 loss 0.3977143168449402\n",
            "epoch: 341 loss 0.3973252475261688\n",
            "epoch: 342 loss 0.3969371020793915\n",
            "epoch: 343 loss 0.396549791097641\n",
            "epoch: 344 loss 0.3961635231971741\n",
            "epoch: 345 loss 0.3957781493663788\n",
            "epoch: 346 loss 0.39539361000061035\n",
            "epoch: 347 loss 0.39501017332077026\n",
            "epoch: 348 loss 0.39462757110595703\n",
            "epoch: 349 loss 0.3942459523677826\n",
            "epoch: 350 loss 0.3938651978969574\n",
            "epoch: 351 loss 0.3934853672981262\n",
            "epoch: 352 loss 0.39310649037361145\n",
            "epoch: 353 loss 0.3927285373210907\n",
            "epoch: 354 loss 0.39235150814056396\n",
            "epoch: 355 loss 0.39197540283203125\n",
            "epoch: 356 loss 0.39160001277923584\n",
            "epoch: 357 loss 0.39122581481933594\n",
            "epoch: 358 loss 0.3908523619174957\n",
            "epoch: 359 loss 0.3904797434806824\n",
            "epoch: 360 loss 0.3901081383228302\n",
            "epoch: 361 loss 0.3897373676300049\n",
            "epoch: 362 loss 0.38936755061149597\n",
            "epoch: 363 loss 0.38899853825569153\n",
            "epoch: 364 loss 0.3886304199695587\n",
            "epoch: 365 loss 0.38826319575309753\n",
            "epoch: 366 loss 0.38789692521095276\n",
            "epoch: 367 loss 0.38753142952919006\n",
            "epoch: 368 loss 0.3871667981147766\n",
            "epoch: 369 loss 0.38680294156074524\n",
            "epoch: 370 loss 0.386440247297287\n",
            "epoch: 371 loss 0.3860781490802765\n",
            "epoch: 372 loss 0.38571697473526\n",
            "epoch: 373 loss 0.38535675406455994\n",
            "epoch: 374 loss 0.3849973678588867\n",
            "epoch: 375 loss 0.3846386969089508\n",
            "epoch: 376 loss 0.3842810094356537\n",
            "epoch: 377 loss 0.38392409682273865\n",
            "epoch: 378 loss 0.3835679590702057\n",
            "epoch: 379 loss 0.3832126259803772\n",
            "epoch: 380 loss 0.38285839557647705\n",
            "epoch: 381 loss 0.38250482082366943\n",
            "epoch: 382 loss 0.3821520507335663\n",
            "epoch: 383 loss 0.3818000853061676\n",
            "epoch: 384 loss 0.3814489245414734\n",
            "epoch: 385 loss 0.3810987174510956\n",
            "epoch: 386 loss 0.3807491958141327\n",
            "epoch: 387 loss 0.3804006576538086\n",
            "epoch: 388 loss 0.3800526559352875\n",
            "epoch: 389 loss 0.3797057271003723\n",
            "epoch: 390 loss 0.37935951352119446\n",
            "epoch: 391 loss 0.37901413440704346\n",
            "epoch: 392 loss 0.37866947054862976\n",
            "epoch: 393 loss 0.3783257305622101\n",
            "epoch: 394 loss 0.37798264622688293\n",
            "epoch: 395 loss 0.37764036655426025\n",
            "epoch: 396 loss 0.37729892134666443\n",
            "epoch: 397 loss 0.37695834040641785\n",
            "epoch: 398 loss 0.3766184151172638\n",
            "epoch: 399 loss 0.3762792944908142\n",
            "epoch: 400 loss 0.37594103813171387\n",
            "epoch: 401 loss 0.37560349702835083\n",
            "epoch: 402 loss 0.37526679039001465\n",
            "epoch: 403 loss 0.37493079900741577\n",
            "epoch: 404 loss 0.3745954930782318\n",
            "epoch: 405 loss 0.3742610812187195\n",
            "epoch: 406 loss 0.37392738461494446\n",
            "epoch: 407 loss 0.37359458208084106\n",
            "epoch: 408 loss 0.37326228618621826\n",
            "epoch: 409 loss 0.3729308843612671\n",
            "epoch: 410 loss 0.3726001977920532\n",
            "epoch: 411 loss 0.372270405292511\n",
            "epoch: 412 loss 0.3719412684440613\n",
            "epoch: 413 loss 0.3716128170490265\n",
            "epoch: 414 loss 0.371285080909729\n",
            "epoch: 415 loss 0.37095823884010315\n",
            "epoch: 416 loss 0.37063202261924744\n",
            "epoch: 417 loss 0.3703065514564514\n",
            "epoch: 418 loss 0.36998191475868225\n",
            "epoch: 419 loss 0.3696579039096832\n",
            "epoch: 420 loss 0.36933472752571106\n",
            "epoch: 421 loss 0.36901217699050903\n",
            "epoch: 422 loss 0.3686903715133667\n",
            "epoch: 423 loss 0.36836928129196167\n",
            "epoch: 424 loss 0.36804890632629395\n",
            "epoch: 425 loss 0.3677292764186859\n",
            "epoch: 426 loss 0.3674103915691376\n",
            "epoch: 427 loss 0.3670922517776489\n",
            "epoch: 428 loss 0.3667745590209961\n",
            "epoch: 429 loss 0.36645781993865967\n",
            "epoch: 430 loss 0.3661418557167053\n",
            "epoch: 431 loss 0.36582642793655396\n",
            "epoch: 432 loss 0.3655116558074951\n",
            "epoch: 433 loss 0.36519771814346313\n",
            "epoch: 434 loss 0.3648844063282013\n",
            "epoch: 435 loss 0.3645719587802887\n",
            "epoch: 436 loss 0.36425986886024475\n",
            "epoch: 437 loss 0.36394867300987244\n",
            "epoch: 438 loss 0.36363810300827026\n",
            "epoch: 439 loss 0.36332833766937256\n",
            "epoch: 440 loss 0.3630192279815674\n",
            "epoch: 441 loss 0.3627106845378876\n",
            "epoch: 442 loss 0.36240288615226746\n",
            "epoch: 443 loss 0.36209580302238464\n",
            "epoch: 444 loss 0.36178919672966003\n",
            "epoch: 445 loss 0.3614836037158966\n",
            "epoch: 446 loss 0.3611784875392914\n",
            "epoch: 447 loss 0.3608740270137787\n",
            "epoch: 448 loss 0.36057013273239136\n",
            "epoch: 449 loss 0.36026713252067566\n",
            "epoch: 450 loss 0.3599647879600525\n",
            "epoch: 451 loss 0.3596627712249756\n",
            "epoch: 452 loss 0.3593617379665375\n",
            "epoch: 453 loss 0.35906121134757996\n",
            "epoch: 454 loss 0.35876142978668213\n",
            "epoch: 455 loss 0.35846224427223206\n",
            "epoch: 456 loss 0.3581637144088745\n",
            "epoch: 457 loss 0.35786575078964233\n",
            "epoch: 458 loss 0.3575686514377594\n",
            "epoch: 459 loss 0.3572719991207123\n",
            "epoch: 460 loss 0.3569760024547577\n",
            "epoch: 461 loss 0.3566807508468628\n",
            "epoch: 462 loss 0.3563860356807709\n",
            "epoch: 463 loss 0.35609206557273865\n",
            "epoch: 464 loss 0.35579854249954224\n",
            "epoch: 465 loss 0.35550570487976074\n",
            "epoch: 466 loss 0.35521361231803894\n",
            "epoch: 467 loss 0.35492220520973206\n",
            "epoch: 468 loss 0.35463112592697144\n",
            "epoch: 469 loss 0.35434094071388245\n",
            "epoch: 470 loss 0.35405123233795166\n",
            "epoch: 471 loss 0.35376226902008057\n",
            "epoch: 472 loss 0.3534739017486572\n",
            "epoch: 473 loss 0.3531859517097473\n",
            "epoch: 474 loss 0.3528987765312195\n",
            "epoch: 475 loss 0.3526122272014618\n",
            "epoch: 476 loss 0.3523262143135071\n",
            "epoch: 477 loss 0.3520407974720001\n",
            "epoch: 478 loss 0.35175594687461853\n",
            "epoch: 479 loss 0.351471871137619\n",
            "epoch: 480 loss 0.3511882722377777\n",
            "epoch: 481 loss 0.35090532898902893\n",
            "epoch: 482 loss 0.3506229519844055\n",
            "epoch: 483 loss 0.35034120082855225\n",
            "epoch: 484 loss 0.35006001591682434\n",
            "epoch: 485 loss 0.34977948665618896\n",
            "epoch: 486 loss 0.34949952363967896\n",
            "epoch: 487 loss 0.3492198884487152\n",
            "epoch: 488 loss 0.34894120693206787\n",
            "epoch: 489 loss 0.34866294264793396\n",
            "epoch: 490 loss 0.3483852446079254\n",
            "epoch: 491 loss 0.348108172416687\n",
            "epoch: 492 loss 0.34783169627189636\n",
            "epoch: 493 loss 0.3475556969642639\n",
            "epoch: 494 loss 0.3472804129123688\n",
            "epoch: 495 loss 0.34700560569763184\n",
            "epoch: 496 loss 0.3467313051223755\n",
            "epoch: 497 loss 0.3464578688144684\n",
            "epoch: 498 loss 0.346184641122818\n",
            "epoch: 499 loss 0.3459121286869049\n"
          ],
          "name": "stdout"
        }
      ]
    },
    {
      "cell_type": "code",
      "metadata": {
        "id": "Me6Y1V9QV1S_",
        "colab_type": "code",
        "colab": {
          "base_uri": "https://localhost:8080/",
          "height": 34
        },
        "outputId": "b215aa6a-2fdb-40fd-fa90-6112cc741e90"
      },
      "source": [
        "((1-0.18401144444942474/0.18405595421791077))"
      ],
      "execution_count": 15,
      "outputs": [
        {
          "output_type": "execute_result",
          "data": {
            "text/plain": [
              "0.0002418273762191392"
            ]
          },
          "metadata": {
            "tags": []
          },
          "execution_count": 15
        }
      ]
    },
    {
      "cell_type": "code",
      "metadata": {
        "id": "hkT8rMYINQC9",
        "colab_type": "code",
        "colab": {
          "base_uri": "https://localhost:8080/",
          "height": 34
        },
        "outputId": "97879efd-d146-4473-93bd-d93795a17b7c"
      },
      "source": [
        "GetParams()"
      ],
      "execution_count": 16,
      "outputs": [
        {
          "output_type": "execute_result",
          "data": {
            "text/plain": [
              "(0.9602904319763184, -0.9720208644866943, 0.018554959446191788)"
            ]
          },
          "metadata": {
            "tags": []
          },
          "execution_count": 16
        }
      ]
    },
    {
      "cell_type": "code",
      "metadata": {
        "id": "A4Qx8SHHN7Xb",
        "colab_type": "code",
        "colab": {
          "base_uri": "https://localhost:8080/",
          "height": 262
        },
        "outputId": "01e3daa7-e905-4e18-b096-b7c3c3e6162d"
      },
      "source": [
        "PlotFit(\"Final model\")"
      ],
      "execution_count": 17,
      "outputs": [
        {
          "output_type": "display_data",
          "data": {
            "image/png": "[encoded data removed]",
            "text/plain": [
              "<Figure size 432x288 with 1 Axes>"
            ]
          },
          "metadata": {
            "tags": []
          }
        }
      ]
    },
    {
      "cell_type": "code",
      "metadata": {
        "id": "zlH8QVgaOCHM",
        "colab_type": "code",
        "colab": {
          "base_uri": "https://localhost:8080/",
          "height": 276
        },
        "outputId": "cedb1c32-892d-4c1f-bbf7-da2727aff71e"
      },
      "source": [
        "plt.plot(range(epochs), losses, color = \"aqua\")\n",
        "plt.ylabel(\"Loss\")\n",
        "plt.xlabel(\"Epoch\")\n",
        "plt.show()"
      ],
      "execution_count": 18,
      "outputs": [
        {
          "output_type": "display_data",
          "data": {
            "image/png": "[encoded data removed]",
            "text/plain": [
              "<Figure size 432x288 with 1 Axes>"
            ]
          },
          "metadata": {
            "tags": []
          }
        }
      ]
    },
    {
      "cell_type": "code",
      "metadata": {
        "id": "CDnzxgU2OEba",
        "colab_type": "code",
        "colab": {}
      },
      "source": [
        "#@title Model Testing\n"
      ],
      "execution_count": 0,
      "outputs": []
    },
    {
      "cell_type": "code",
      "metadata": {
        "id": "tqVBVrb2XSaU",
        "colab_type": "code",
        "colab": {
          "base_uri": "https://localhost:8080/",
          "height": 331
        },
        "outputId": "00838bbc-ee9b-44f8-fefd-59b13879eeed"
      },
      "source": [
        "point1 = torch.tensor([1.0, -1.0])\n",
        "point2 = torch.tensor([-1.0,1.0])\n",
        "plt.plot(point1.numpy()[0],point1.numpy()[1], 'ro' )\n",
        "plt.plot(point2.numpy()[0],point2.numpy()[1], 'ko' )\n",
        "\n",
        "print(\"Red point positive probability = {}\".format(\n",
        "    model.forward(point1).item()))\n",
        "print(\"Red point class = {}\".format(\n",
        "    model.predict(point1)))\n",
        "print(\"Black point positive probability = {}\".format(\n",
        "    model.forward(point2).item()))\n",
        "print(\"Black point class = {}\".format(\n",
        "    model.predict(point2)))\n",
        "\n",
        "PlotFit(\"Final model\")"
      ],
      "execution_count": 19,
      "outputs": [
        {
          "output_type": "stream",
          "text": [
            "Red point positive probability = 0.875541090965271\n",
            "Red point class = 1\n",
            "Black point positive probability = 0.1285594403743744\n",
            "Black point class = 0\n"
          ],
          "name": "stdout"
        },
        {
          "output_type": "display_data",
          "data": {
            "image/png": "[encoded data removed]",
            "text/plain": [
              "<Figure size 432x288 with 1 Axes>"
            ]
          },
          "metadata": {
            "tags": []
          }
        }
      ]
    },
    {
      "cell_type": "code",
      "metadata": {
        "id": "Cyd8kvYsYP7F",
        "colab_type": "code",
        "colab": {}
      },
      "source": [
        ""
      ],
      "execution_count": 0,
      "outputs": []
    }
  ]
}