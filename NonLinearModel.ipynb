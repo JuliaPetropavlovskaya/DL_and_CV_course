{
  "nbformat": 4,
  "nbformat_minor": 0,
  "metadata": {
    "colab": {
      "name": "NonLinearModel.ipynb",
      "version": "0.3.2",
      "provenance": [],
      "include_colab_link": true
    },
    "kernelspec": {
      "name": "python3",
      "display_name": "Python 3"
    }
  },
  "cells": [
    {
      "cell_type": "markdown",
      "metadata": {
        "id": "view-in-github",
        "colab_type": "text"
      },
      "source": [
        "<a href=\"https://colab.research.google.com/github/JuliaPetropavlovskaya/DL_and_CV_course/blob/master/NonLinearModel.ipynb\" target=\"_parent\"><img src=\"https://colab.research.google.com/assets/colab-badge.svg\" alt=\"Open In Colab\"/></a>"
      ]
    },
    {
      "cell_type": "code",
      "metadata": {
        "id": "h1dGSw5mcY52",
        "colab_type": "code",
        "colab": {
          "base_uri": "https://localhost:8080/",
          "height": 71
        },
        "outputId": "4e03ece6-e6dc-4b46-c6f8-51da85af53af"
      },
      "source": [
        "!pip3 install torch"
      ],
      "execution_count": 1,
      "outputs": [
        {
          "output_type": "stream",
          "text": [
            "Requirement already satisfied: torch in /usr/local/lib/python3.6/dist-packages (1.1.0)\n",
            "Requirement already satisfied: numpy in /usr/local/lib/python3.6/dist-packages (from torch) (1.16.4)\n"
          ],
          "name": "stdout"
        }
      ]
    },
    {
      "cell_type": "code",
      "metadata": {
        "id": "XEFwy01KoyUW",
        "colab_type": "code",
        "colab": {}
      },
      "source": [
        "# import libraries\n",
        "import torch\n",
        "import torch.nn as nn\n",
        "import numpy as np\n",
        "import matplotlib.pyplot as plt\n",
        "import matplotlib.style as style\n",
        "import seaborn as sns\n",
        "from sklearn import datasets\n",
        "style.use('seaborn-whitegrid')"
      ],
      "execution_count": 0,
      "outputs": []
    },
    {
      "cell_type": "markdown",
      "metadata": {
        "id": "JEbcwoGe1s_9",
        "colab_type": "text"
      },
      "source": [
        "### Dataset"
      ]
    },
    {
      "cell_type": "code",
      "metadata": {
        "id": "8mIvJOGfqmEB",
        "colab_type": "code",
        "colab": {}
      },
      "source": [
        "# create dataset\n",
        "n_pts=500\n",
        "\n",
        "# we create centers of the futer clusters\n",
        "# to make separation more difficult\n",
        "X, y = datasets.make_circles(n_samples=n_pts, \n",
        "                          random_state = 123,\n",
        "                          noise = 0.1,\n",
        "                          factor = 0.2)\n",
        "#print(X)\n",
        "#print(y)"
      ],
      "execution_count": 0,
      "outputs": []
    },
    {
      "cell_type": "code",
      "metadata": {
        "id": "11xFOUCnrucm",
        "colab_type": "code",
        "colab": {}
      },
      "source": [
        "def ScatterPlot():\n",
        "  style.use('seaborn-dark-palette')\n",
        "  sns.scatterplot(x = X[y==0,0], y = X[y==0,1])\n",
        "  sns.scatterplot(x = X[y==1,0], y = X[y==1,1])"
      ],
      "execution_count": 0,
      "outputs": []
    },
    {
      "cell_type": "code",
      "metadata": {
        "id": "WQe_pBjMrnY6",
        "colab_type": "code",
        "colab": {
          "base_uri": "https://localhost:8080/",
          "height": 262
        },
        "outputId": "78f23785-2e38-4e11-ce01-46126f962905"
      },
      "source": [
        "ScatterPlot()"
      ],
      "execution_count": 5,
      "outputs": [
        {
          "output_type": "display_data",
          "data": {
            "image/png": "[encoded data removed]",
            "text/plain": [
              "<Figure size 432x288 with 1 Axes>"
            ]
          },
          "metadata": {
            "tags": []
          }
        }
      ]
    },
    {
      "cell_type": "code",
      "metadata": {
        "id": "_72rrPGp2WIu",
        "colab_type": "code",
        "colab": {}
      },
      "source": [
        "x_data = torch.Tensor(X)\n",
        "y_data = torch.Tensor(y)"
      ],
      "execution_count": 0,
      "outputs": []
    },
    {
      "cell_type": "markdown",
      "metadata": {
        "id": "QlM8euKz24CK",
        "colab_type": "text"
      },
      "source": [
        "#### NonLinear 2 layered simple NN"
      ]
    },
    {
      "cell_type": "code",
      "metadata": {
        "id": "_hrMM6vJ2Z87",
        "colab_type": "code",
        "colab": {}
      },
      "source": [
        "class Model(nn.Module):\n",
        "  def __init__(self, input_size, H1 ,output_size):\n",
        "    super().__init__()\n",
        "    self.linear = nn.Linear(input_size, H1)\n",
        "    self.linear2 = nn.Linear(H1, output_size)\n",
        "  def forward(self, x):\n",
        "    x = torch.sigmoid(self.linear(x))\n",
        "    x = torch.sigmoid(self.linear2(x))\n",
        "    return x\n",
        "  \n",
        "  def predict(self,x):\n",
        "    pred = self.forward(x)\n",
        "    if pred >= 0.5:\n",
        "      return 1\n",
        "    else: \n",
        "      return int(0)"
      ],
      "execution_count": 0,
      "outputs": []
    },
    {
      "cell_type": "code",
      "metadata": {
        "id": "ve9LRdfp4MzX",
        "colab_type": "code",
        "colab": {
          "base_uri": "https://localhost:8080/",
          "height": 174
        },
        "outputId": "2f07e1a6-7802-4d50-d75d-8efd7dc1b5c5"
      },
      "source": [
        "torch.manual_seed(2)\n",
        "model = Model(2,4,1)\n",
        "print(list(model.parameters()))"
      ],
      "execution_count": 8,
      "outputs": [
        {
          "output_type": "stream",
          "text": [
            "[Parameter containing:\n",
            "tensor([[ 0.1622, -0.1683],\n",
            "        [ 0.1939, -0.0361],\n",
            "        [ 0.3021,  0.1683],\n",
            "        [-0.0813, -0.5717]], requires_grad=True), Parameter containing:\n",
            "tensor([ 0.1614, -0.6260,  0.0929,  0.0470], requires_grad=True), Parameter containing:\n",
            "tensor([[-0.1099,  0.4088,  0.0334,  0.2073]], requires_grad=True), Parameter containing:\n",
            "tensor([0.2116], requires_grad=True)]\n"
          ],
          "name": "stdout"
        }
      ]
    },
    {
      "cell_type": "code",
      "metadata": {
        "id": "_MTlYJDu4bbQ",
        "colab_type": "code",
        "colab": {}
      },
      "source": [
        "# Our criterion\n",
        "criterion = nn.BCELoss()\n",
        "# Update of the parameters\n",
        "# In SGD or VGD we have to be very carefull,\n",
        "# while choosing the learning rate. Adam is not so sensitive.\n",
        "# Adam optimizer adaptively calculate the learning rate \n",
        "# for each parameter individually and its very effective\n",
        "# when we deal with large data sets, so it's good as default \n",
        "# algorithm\n",
        "optimizer = torch.optim.Adam(model.parameters(),\n",
        "                             lr = 0.1)"
      ],
      "execution_count": 0,
      "outputs": []
    },
    {
      "cell_type": "code",
      "metadata": {
        "id": "beWzNfb16ceS",
        "colab_type": "code",
        "colab": {
          "base_uri": "https://localhost:8080/",
          "height": 414
        },
        "outputId": "1acdd49d-569d-47ae-99e6-18d42287cb2d"
      },
      "source": [
        "epochs = 1000\n",
        "losses = []\n",
        "n = 0\n",
        "for i in range(epochs):\n",
        "  \n",
        "  # make predictions\n",
        "  y_pred = model.forward(x_data)\n",
        "  \n",
        "  # Loss\n",
        "  loss = criterion(y_pred, y_data)\n",
        "  \n",
        "  # Print each 50 results\n",
        "  if (len(losses) == n) or (i == 499):\n",
        "    \n",
        "    print(\"epoch:\", i, \"loss\", loss.item())\n",
        "    \n",
        "    n += 50\n",
        "  \n",
        "  \n",
        "  losses.append(loss.item())\n",
        "\n",
        "  #set gradients to zero\n",
        "  optimizer.zero_grad()\n",
        "\n",
        "  # back propagate our loss\n",
        "  loss.backward()\n",
        "\n",
        "  # calculate SGD. Step method is used to update parameters\n",
        "  optimizer.step()"
      ],
      "execution_count": 10,
      "outputs": [
        {
          "output_type": "stream",
          "text": [
            "epoch: 0 loss 0.7148522138595581\n"
          ],
          "name": "stdout"
        },
        {
          "output_type": "stream",
          "text": [
            "/usr/local/lib/python3.6/dist-packages/torch/nn/modules/loss.py:512: UserWarning: Using a target size (torch.Size([500])) that is different to the input size (torch.Size([500, 1])) is deprecated. Please ensure they have the same size.\n",
            "  return F.binary_cross_entropy(input, target, weight=self.weight, reduction=self.reduction)\n"
          ],
          "name": "stderr"
        },
        {
          "output_type": "stream",
          "text": [
            "epoch: 50 loss 0.4164563715457916\n",
            "epoch: 100 loss 0.07127666473388672\n",
            "epoch: 150 loss 0.02683403715491295\n",
            "epoch: 200 loss 0.01712038740515709\n",
            "epoch: 250 loss 0.012399842962622643\n",
            "epoch: 300 loss 0.009558714926242828\n",
            "epoch: 350 loss 0.007655191235244274\n",
            "epoch: 400 loss 0.006291310302913189\n",
            "epoch: 450 loss 0.00527499383315444\n",
            "epoch: 499 loss 0.004515173379331827\n",
            "epoch: 550 loss 0.0039023070130497217\n",
            "epoch: 600 loss 0.0034283529967069626\n",
            "epoch: 650 loss 0.0030456148087978363\n",
            "epoch: 700 loss 0.002730433363467455\n",
            "epoch: 750 loss 0.0024663894437253475\n",
            "epoch: 800 loss 0.0022419511806219816\n",
            "epoch: 850 loss 0.0020488593727350235\n",
            "epoch: 900 loss 0.0018810416804626584\n",
            "epoch: 950 loss 0.0017339272890239954\n"
          ],
          "name": "stdout"
        }
      ]
    },
    {
      "cell_type": "code",
      "metadata": {
        "id": "9YMIL3Qk7njv",
        "colab_type": "code",
        "colab": {
          "base_uri": "https://localhost:8080/",
          "height": 276
        },
        "outputId": "8a48ad4d-0d73-473f-8fdf-617276f041de"
      },
      "source": [
        "plt.plot(range(epochs), losses, color = \"aqua\")\n",
        "plt.ylabel(\"Loss\")\n",
        "plt.xlabel(\"Epoch\")\n",
        "plt.show()"
      ],
      "execution_count": 11,
      "outputs": [
        {
          "output_type": "display_data",
          "data": {
            "image/png": "[encoded data removed]",
            "text/plain": [
              "<Figure size 432x288 with 1 Axes>"
            ]
          },
          "metadata": {
            "tags": []
          }
        }
      ]
    },
    {
      "cell_type": "markdown",
      "metadata": {
        "id": "6nPsglKn8sar",
        "colab_type": "text"
      },
      "source": [
        "#### Model Testing"
      ]
    },
    {
      "cell_type": "code",
      "metadata": {
        "id": "QKxzOLZHyKBX",
        "colab_type": "code",
        "colab": {}
      },
      "source": [
        ""
      ],
      "execution_count": 0,
      "outputs": []
    },
    {
      "cell_type": "code",
      "metadata": {
        "id": "EJT87J2k97Jq",
        "colab_type": "code",
        "colab": {}
      },
      "source": [
        "def plot_decision_boundary(X,y):\n",
        "  # generate 50 dots, setting boundaries \n",
        "  # according to min/max values of X\n",
        "  x_span = np.linspace(min(X[:,0]), max(X[:,0]))\n",
        "  y_span = np.linspace(min(X[:,1]), max(X[:,1]))\n",
        "  \n",
        "  # create matrixes which set x in correspondence for each y\n",
        "  # notice that y here is y-axis not a target value\n",
        "  # as a result we get two 50x50 matrixes\n",
        "  xx,yy = np.meshgrid(x_span, y_span)\n",
        "  \n",
        "  # ravel flatens xx and yy to one-dimentional array\n",
        "  xx.ravel(), yy.ravel()\n",
        "  \n",
        "  # coordinate our arrays into colomns using np.c_\n",
        "  # us a result we get one tensor, which we can pass \n",
        "  # to our model and get predicted labels 1/0 \n",
        "  grid = torch.Tensor(np.c_[xx.ravel(), yy.ravel()])\n",
        "  \n",
        "  # predict target values for each new dot\n",
        "  # as a result we should get 50 predictions\n",
        "  pred_func = model.forward(grid)\n",
        "  \n",
        "  # now we need to reshape results in the shape of xx or yy\n",
        "  # to make it possible to build scatter plot\n",
        "  # detach excludes any subgraphs from gardient computation \n",
        "  z = pred_func.view(xx.shape).detach().numpy()\n",
        "  \n",
        "  \n",
        "  plt.contourf(xx,yy,z)"
      ],
      "execution_count": 0,
      "outputs": []
    },
    {
      "cell_type": "code",
      "metadata": {
        "id": "BC3We1mE-FTm",
        "colab_type": "code",
        "colab": {
          "base_uri": "https://localhost:8080/",
          "height": 266
        },
        "outputId": "8c27771a-de82-4312-853e-c45db25e7a89"
      },
      "source": [
        "plot_decision_boundary(X,y)\n",
        "\n",
        "ScatterPlot()"
      ],
      "execution_count": 13,
      "outputs": [
        {
          "output_type": "display_data",
          "data": {
            "image/png": "[encoded data removed]",
            "text/plain": [
              "<Figure size 432x288 with 1 Axes>"
            ]
          },
          "metadata": {
            "tags": []
          }
        }
      ]
    }
  ]
}